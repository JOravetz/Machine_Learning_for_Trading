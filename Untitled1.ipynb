{
 "cells": [
  {
   "cell_type": "code",
   "execution_count": 16,
   "metadata": {
    "collapsed": false
   },
   "outputs": [],
   "source": [
    "import datetime\n",
    "import numpy as np\n",
    "import pandas as pd\n",
    "import urllib2\n",
    "\n",
    "\n",
    "def get_historic_data(ticker,\n",
    "                      start_date=(2000,1,1),\n",
    "                      end_date=datetime.date.today().timetuple()[0:3]):\n",
    "    \"\"\"\n",
    "    Obtains data from Yahoo Finance and adds it to a pandas DataFrame object.\n",
    "\n",
    "    ticker: Yahoo Finance ticker symbol, e.g. \"GOOG\" for Google, Inc.\n",
    "    start_date: Start date in (YYYY, M, D) format\n",
    "    end_date: End date in (YYYY, M, D) format\n",
    "    \"\"\"\n",
    "\n",
    "    # Construct the Yahoo URL with the correct integer query parameters\n",
    "    # for start and end dates. Note that some parameters are zero-based!\n",
    "    yahoo_url = \"http://ichart.finance.yahoo.com/table.csv?s=%s&a=%s&b=%s&c=%s&d=%s&e=%s&f=%s\" % \\\n",
    "        (ticker, start_date[1] - 1, start_date[2], start_date[0], end_date[1] - 1, end_date[2], end_date[0])\n",
    "    \n",
    "    # Try connecting to Yahoo Finance and obtaining the data\n",
    "    # On failure, print an error message\n",
    "    try:\n",
    "        yf_data = urllib2.urlopen(yahoo_url).readlines()\n",
    "    except Exception, e:\n",
    "        print \"Could not download Yahoo data: %s\" % e\n",
    "\n",
    "    # Create the (temporary) Python data structures to store\n",
    "    # the historical data\n",
    "    date_list = []\n",
    "    hist_data = [[] for i in range(6)]\n",
    "\n",
    "    # Format and copy the raw text data into datetime objects\n",
    "    # and floating point values (still in native Python lists)\n",
    "    for day in yf_data[1:]:  # Avoid the header line in the CSV\n",
    "        headers = day.rstrip().split(',')\n",
    "        date_list.append(datetime.datetime.strptime(headers[0],'%Y-%m-%d'))\n",
    "        for i, header in enumerate(headers[1:]):\n",
    "            hist_data[i].append(float(header))\n",
    "\n",
    "    # Create a Python dictionary of the lists and then use that to\n",
    "    # form a sorted Pandas DataFrame of the historical data\n",
    "    hist_data = dict(zip(['open', 'high', 'low', 'close', 'volume', 'adj_close'], hist_data))\n",
    "    pdf = pd.DataFrame(hist_data, index=pd.Index(date_list)).sort_index()\n",
    "\n",
    "    return pdf\n",
    "\n",
    "def annualised_sharpe(returns, N=252):\n",
    "    \"\"\"\n",
    "    Calculate the annualised Sharpe ratio of a returns stream \n",
    "    based on a number of trading periods, N. N defaults to 252,\n",
    "    which then assumes a stream of daily returns.\n",
    "\n",
    "    The function assumes that the returns are the excess of \n",
    "    those compared to a benchmark.\n",
    "    \"\"\"\n",
    "    return np.sqrt(N) * returns.mean() / returns.std()"
   ]
  },
  {
   "cell_type": "code",
   "execution_count": 17,
   "metadata": {
    "collapsed": true
   },
   "outputs": [],
   "source": [
    "def equity_sharpe(ticker):\n",
    "    \"\"\"\n",
    "    Calculates the annualised Sharpe ratio based on the daily\n",
    "    returns of an equity ticker symbol listed in Yahoo Finance.\n",
    "\n",
    "    The dates have been hardcoded here for the QuantStart article \n",
    "    on Sharpe ratios.\n",
    "    \"\"\"\n",
    "\n",
    "    # Obtain the equities daily historic data for the desired time period\n",
    "    # and add to a pandas DataFrame\n",
    "    pdf = get_historic_data(ticker, start_date=(2014,10,30), end_date=(2016,10,28))\n",
    "    \n",
    "    # Use the percentage change method to easily calculate daily returns\n",
    "    pdf['daily_ret'] = pdf['adj_close'].pct_change()\n",
    "\n",
    "    # Assume an average annual risk-free rate over the period of 5%\n",
    "    pdf['excess_daily_ret'] = pdf['daily_ret'] - 0.0/252\n",
    "\n",
    "    # Return the annualised Sharpe ratio based on the excess daily returns\n",
    "    return annualised_sharpe(pdf['excess_daily_ret'])"
   ]
  },
  {
   "cell_type": "code",
   "execution_count": 18,
   "metadata": {
    "collapsed": false
   },
   "outputs": [
    {
     "data": {
      "text/plain": [
       "2.1844747509797386"
      ]
     },
     "execution_count": 18,
     "metadata": {},
     "output_type": "execute_result"
    }
   ],
   "source": [
    "equity_sharpe('NVDA')"
   ]
  },
  {
   "cell_type": "code",
   "execution_count": 19,
   "metadata": {
    "collapsed": false
   },
   "outputs": [
    {
     "data": {
      "text/plain": [
       "0.065308096693089138"
      ]
     },
     "execution_count": 19,
     "metadata": {},
     "output_type": "execute_result"
    }
   ],
   "source": [
    "equity_sharpe('GS')"
   ]
  },
  {
   "cell_type": "code",
   "execution_count": 20,
   "metadata": {
    "collapsed": false
   },
   "outputs": [
    {
     "data": {
      "text/plain": [
       "0.43720173885233105"
      ]
     },
     "execution_count": 20,
     "metadata": {},
     "output_type": "execute_result"
    }
   ],
   "source": [
    "equity_sharpe('SPY')"
   ]
  },
  {
   "cell_type": "code",
   "execution_count": 21,
   "metadata": {
    "collapsed": true
   },
   "outputs": [],
   "source": [
    "def market_neutral_sharpe(ticker, benchmark):\n",
    "    \"\"\"\n",
    "    Calculates the annualised Sharpe ratio of a market\n",
    "    neutral long/short strategy inolving the long of 'ticker'\n",
    "    with a corresponding short of the 'benchmark'.\n",
    "    \"\"\"\n",
    "\n",
    "    # Get historic data for both a symbol/ticker and a benchmark ticker\n",
    "    # The dates have been hardcoded, but you can modify them as you see fit!\n",
    "    tick = get_historic_data(ticker, start_date=(2014,10,30), end_date=(2016,10,28))\n",
    "    bench = get_historic_data(benchmark, start_date=(2014,10,30), end_date=(2016,10,28))\n",
    "    \n",
    "    # Calculate the percentage returns on each of the time series\n",
    "    tick['daily_ret'] = tick['adj_close'].pct_change()\n",
    "    bench['daily_ret'] = bench['adj_close'].pct_change()\n",
    "    \n",
    "    # Create a new DataFrame to store the strategy information\n",
    "    # The net returns are (long - short)/2, since there is twice \n",
    "    # trading capital for this strategy\n",
    "    strat = pd.DataFrame(index=tick.index)\n",
    "    strat['net_ret'] = (tick['daily_ret'] - bench['daily_ret'])/2.0\n",
    "    \n",
    "    # Return the annualised Sharpe ratio for this strategy\n",
    "    return annualised_sharpe(strat['net_ret'])"
   ]
  },
  {
   "cell_type": "code",
   "execution_count": 22,
   "metadata": {
    "collapsed": false
   },
   "outputs": [
    {
     "data": {
      "text/plain": [
       "0.74473593847354147"
      ]
     },
     "execution_count": 22,
     "metadata": {},
     "output_type": "execute_result"
    }
   ],
   "source": [
    "market_neutral_sharpe('GOOG', 'SPY')"
   ]
  },
  {
   "cell_type": "code",
   "execution_count": 23,
   "metadata": {
    "collapsed": false
   },
   "outputs": [
    {
     "data": {
      "text/plain": [
       "-0.32174681766719981"
      ]
     },
     "execution_count": 23,
     "metadata": {},
     "output_type": "execute_result"
    }
   ],
   "source": [
    "market_neutral_sharpe('GS', 'SPY')"
   ]
  },
  {
   "cell_type": "code",
   "execution_count": null,
   "metadata": {
    "collapsed": true
   },
   "outputs": [],
   "source": []
  }
 ],
 "metadata": {
  "anaconda-cloud": {},
  "kernelspec": {
   "display_name": "Python [conda root]",
   "language": "python",
   "name": "conda-root-py"
  },
  "language_info": {
   "codemirror_mode": {
    "name": "ipython",
    "version": 2
   },
   "file_extension": ".py",
   "mimetype": "text/x-python",
   "name": "python",
   "nbconvert_exporter": "python",
   "pygments_lexer": "ipython2",
   "version": "2.7.12"
  }
 },
 "nbformat": 4,
 "nbformat_minor": 0
}
