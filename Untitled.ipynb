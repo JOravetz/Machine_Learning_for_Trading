{
 "cells": [
  {
   "cell_type": "code",
   "execution_count": 24,
   "metadata": {
    "collapsed": false
   },
   "outputs": [
    {
     "name": "stdout",
     "output_type": "stream",
     "text": [
      "[[-2.362, -0.956], [-2.362, -0.956], [-2.362, -0.956], [-2.362, -0.956], [-2.362, -0.956], ..., (0.827, 2.524], (0.827, 2.524], (0.827, 2.524], (0.827, 2.524], (0.827, 2.524]]\n",
      "Length: 300\n",
      "Categories (5, object): [[-2.362, -0.956] < (-0.956, -0.236] < (-0.236, 0.23] < (0.23, 0.827] < (0.827, 2.524]]\n"
     ]
    }
   ],
   "source": [
    "import numpy as np\n",
    "import pandas as pd\n",
    "factors = np.random.randn(300)\n",
    "factors.sort()\n",
    "threshold = pd.qcut(factors, 5)\n",
    "print threshold"
   ]
  },
  {
   "cell_type": "code",
   "execution_count": 3,
   "metadata": {
    "collapsed": false
   },
   "outputs": [
    {
     "data": {
      "text/plain": [
       "12.699606293110037"
      ]
     },
     "execution_count": 3,
     "metadata": {},
     "output_type": "execute_result"
    }
   ],
   "source": [
    "import math\n",
    "math.sqrt (252) * ((0.001 - 0.0002) / 0.001 )"
   ]
  }
 ],
 "metadata": {
  "anaconda-cloud": {},
  "kernelspec": {
   "display_name": "Python [conda root]",
   "language": "python",
   "name": "conda-root-py"
  },
  "language_info": {
   "codemirror_mode": {
    "name": "ipython",
    "version": 2
   },
   "file_extension": ".py",
   "mimetype": "text/x-python",
   "name": "python",
   "nbconvert_exporter": "python",
   "pygments_lexer": "ipython2",
   "version": "2.7.12"
  }
 },
 "nbformat": 4,
 "nbformat_minor": 0
}
